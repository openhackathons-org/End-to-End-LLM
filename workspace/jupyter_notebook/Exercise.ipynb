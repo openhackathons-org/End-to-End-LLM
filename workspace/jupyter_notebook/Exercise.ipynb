{
 "cells": [
  {
   "cell_type": "markdown",
   "id": "0fc424d6",
   "metadata": {},
   "source": [
    "<p> <center> <a href=\"../Start_Here.ipynb\">Home Page</a> </center> </p>\n",
    "\n",
    " <div>\n",
    "    <span style=\"float: left; width: 33%; text-align: left;\"><a href=\"QandA_data_processing.ipynb\">Previous Notebook</a></span>\n",
    "    <span style=\"float: left; width: 33%; text-align: center;\">\n",
    "        <a href=\"Overview.ipynb\">1</a>\n",
    "        <a href=\"General_preprocessing.ipynb\">2</a>\n",
    "        <a href=\"QandA_data_processing.ipynb\">3</a>\n",
    "        <a >4</a>\n",
    "        <a href=\"Summary.ipynb\">5</a>\n",
    "    </span>\n",
    "    <span style=\"float: left; width: 33%; text-align: right;\"><a href=\"Summary.ipynb\">Next Notebook</a></span>\n",
    "</div>"
   ]
  },
  {
   "cell_type": "markdown",
   "id": "f81ba0a5",
   "metadata": {},
   "source": [
    "# Exercise\n",
    "\n",
    "---"
   ]
  },
  {
   "cell_type": "markdown",
   "id": "647792fd",
   "metadata": {},
   "source": [
    "## Goal\n",
    "The goal of this exercise is to enable you to apply techniques learned in the previous labs in a single pipeline to generate a SQuAD JSON format question-answering dataset from text data, thus, solidifying your understanding.\n"
   ]
  },
  {
   "cell_type": "markdown",
   "id": "5622d7f3",
   "metadata": {},
   "source": [
    "## Data \n",
    "\n",
    "Our sample data are from two different sources and would cover two topics namely ecommerce and climate change. The ecommerce is sourced from [keggle](https://www.kaggle.com/datasets/cclark/product-item-data) and it contains 500 actual SKUs (stock-keeping units) from an outdoor apparel brand's product catalog. The climate change was sourced from [researchgate](https://www.researchgate.net/publication/311301385_Climate_Change) authored by `Chris Riedy`.\n"
   ]
  },
  {
   "cell_type": "markdown",
   "id": "d7ef42e8",
   "metadata": {},
   "source": [
    "### Exercise 1"
   ]
  },
  {
   "cell_type": "markdown",
   "id": "7c8d9439",
   "metadata": {},
   "source": [
    "**Load CSV file and display text**"
   ]
  },
  {
   "cell_type": "code",
   "execution_count": null,
   "id": "fa3ffa27",
   "metadata": {
    "tags": []
   },
   "outputs": [],
   "source": [
    "import numpy as np\n",
    "import pandas as pd\n",
    "import re\n",
    "import string\n",
    "#import cudf as df\n",
    "\n",
    "path = '../source_code/data/ecommerce.csv'\n",
    "cv_file = pd.read_csv( ) # add path \n",
    "\n",
    "cv_file\n",
    "for row in cv_file['description']:\n",
    "    print(row)\n"
   ]
  },
  {
   "cell_type": "markdown",
   "id": "e9302570",
   "metadata": {},
   "source": [
    "**Removal of HTML tags and unwanted characters** "
   ]
  },
  {
   "cell_type": "code",
   "execution_count": null,
   "id": "0accb5b9",
   "metadata": {},
   "outputs": [],
   "source": [
    "# you are free to modify the entire code in this cell\n",
    "\n",
    "html_reg_exp = re.compile('<.*?>')\n",
    "\n",
    "context = []\n",
    "for row in cv_file['description']:\n",
    "    _context = html_reg_exp.sub( , row) #add r'' to this line such as: (r'', row)\n",
    "    context.append(_context)\n",
    "      \n",
    "cv_file['description'] = context \n",
    "cv_file['description'][0]"
   ]
  },
  {
   "cell_type": "code",
   "execution_count": null,
   "id": "296a22b3",
   "metadata": {},
   "outputs": [],
   "source": [
    "##(optional) apply other preprocessing techniques to remove unwanted characters or symbols\n",
    "\n"
   ]
  },
  {
   "cell_type": "markdown",
   "id": "1995167a",
   "metadata": {},
   "source": [
    "**Save the processed data in CSV file as `ecommerce_1.csv`**"
   ]
  },
  {
   "cell_type": "code",
   "execution_count": null,
   "id": "77863515",
   "metadata": {},
   "outputs": [],
   "source": [
    "## write back to ecommerce_1.csv\n",
    "\n",
    "save_path = '../source_code/data/ '  #complete the path\n",
    "cv_file.to_csv(save_path, index=False)\n",
    "\n",
    "#cv_file.head()"
   ]
  },
  {
   "cell_type": "markdown",
   "id": "e58b96dd",
   "metadata": {},
   "source": [
    "### Exercise 2\n",
    "\n",
    "You are to follow the list of steps highlighted below to complete the exercise."
   ]
  },
  {
   "cell_type": "markdown",
   "id": "3cec7436",
   "metadata": {},
   "source": [
    "### Step 1\n",
    "\n",
    "- Download/open the [ecommerce_1.csv](../source_code/data/ecommerce.csv) at `source_code/data/ecommerce.csv` and [climate change](../source_code/data/Climatechange.docx) at `source_code/data/Climatechange.docx` document\r\n",
    "- create two Excel files named `exercise.xlsx` and `exercise.csv`\r\n",
    "- In the `exercise.xlsx`, create three sheets (Sheet0, Sheet1, Sheet2)\r\n",
    "- In `Sheet0`, create two columns (tid, title) and insert two rows as (1, ecommerce), (2, climate change) for tid and title respectively  \r\n",
    "- In `Sheet1`, create three columns (tid, cid, and context). please refer to the `On-Code SQuAD Format QA dataset Generation` section in `Lab 3`\r\n",
    "- Manually Extract <u>10 contexts</u> from each file to complete a total of 20 contexts having `cid` numbering from 1-20 and tid as 1 or 2 according to the title `tid` mapping.\r\n",
    "- Create four columns in `Sheet2` (tid, cid, question, answer). Extract 2 questions and answers (QA) from each context in `Sheet1` and insert them into question and answer columns in `Sheet2`. Also, copy the corresponding tid & cid of the context where the QA was extracted and paste it into `Sheet2` as shown in `Lab 3`\r\n",
    "\n"
   ]
  },
  {
   "cell_type": "markdown",
   "id": "ccdecc62",
   "metadata": {},
   "source": [
    "### Step 2\n",
    "\n",
    "- In the `exercise.csv` create a single column named `document_text`.\r\n",
    "- Copy all the context from `Sheet1` in `exercise.xlsx` and paste it under the `document_text` in `exercise.csv` as shown in the `No-Code SQuAD Format QA dataset Generation with Haystack` section in `Lab 3`  \r\n",
    "- Copy both files (`exercise.xlsx` and `exercise.csv`) and paste them in the `../source_code/data/` director\r\n",
    "\n"
   ]
  },
  {
   "cell_type": "markdown",
   "id": "5b9e56f4",
   "metadata": {},
   "source": [
    "### Exercise 3\n",
    "\n",
    "- Generate `SQuAD` JSON dataset format called `exercise.json`  from `exercise.xlsx` by modifying the code cell below. You can recall `Lab 3`.  \n"
   ]
  },
  {
   "cell_type": "code",
   "execution_count": null,
   "id": "a6ed7732",
   "metadata": {},
   "outputs": [],
   "source": [
    "# You are free to rewrite your own code\n",
    "import json\n",
    "import csv\n",
    "import re, os\n",
    "import pandas as pd\n",
    "\n",
    "class MakeDataset():\n",
    "    def __init__(self, path):\n",
    "        self.Path = path\n",
    "        self.final_json = {}\n",
    "        self.final_json['version'] = \"v2.0\"\n",
    "        self.final_json['data'] = []      \n",
    "    \n",
    "    # modify this method\n",
    "    def csv_reader(self):\n",
    "        xls = pd.ExcelFile(self.Path)\n",
    "        self.Title = \n",
    "        self.Context = \n",
    "        self.QandA   =\n",
    "        \n",
    "        \n",
    "    def get_loc(self, answer, content):\n",
    "        loc = re.search(answer.lower(), content.lower())\n",
    "        if loc is None:\n",
    "            return -1\n",
    "        else:\n",
    "            return loc.span()[0]\n",
    "        \n",
    "     #modify this model   \n",
    "    def make_json(self):\n",
    "        qid = 1\n",
    "        for i in range(len(self.Title)):\n",
    "            self.brace_in_data ={}\n",
    "            self.brace_in_data['title'] = self.Title['title'][i]\n",
    "            self.brace_in_data['paragraphs'] = []                              \n",
    "            for j in range(len(self.Context)):\n",
    "                if self.Title['tid'][i] == self.Context['tid'][j]:\n",
    "                    brace_in_paragaraphs = {}\n",
    "                    brace_in_paragaraphs['context'] =    #add\n",
    "                    brace_in_paragaraphs['qas'] =        #add    \n",
    "                    for k in  range(len(self.QandA)):\n",
    "                        if self.Context['cid'][j] == self.QandA['cid'][k] and self.Title['tid'][i] == self.QandA['tid'][k]:\n",
    "                            brace_in_qas = {}\n",
    "                            brace_in_qas['question'] = self.QandA['question'][k]\n",
    "                            brace_in_qas['id'] = qid\n",
    "                            loc = self.get_loc(self.QandA['answer'][k], self.Context['context'][j])\n",
    "                            if loc == -1:\n",
    "                                brace_in_qas['answer'] =[] \n",
    "                                brace_in_qas['is_impossible'] = True\n",
    "                            else:\n",
    "                                brace_in_qas['answer'] =[{'text':self.QandA['answer'][k], 'answer_start':loc}]\n",
    "                                brace_in_qas['is_impossible'] = False\n",
    "                            qid +=1                                   \n",
    "                            brace_in_paragaraphs['qas'].append() # add\n",
    "                    self.brace_in_data['paragraphs'].append(brace_in_paragaraphs)\n",
    "            self.final_json['data'].append(self.brace_in_data)        \n",
    "                    \n",
    "    def save_json(self, filename):\n",
    "        with open(f\"../source_code/data/{filename}.json\", \"w\") as write_file:\n",
    "            json.dump(self.final_json, write_file, indent=4)\n",
    "            print(\"dataset saved in SQauD json format ....\")\n",
    "    \n",
    "\n",
    "path = '../source_code/data/exercise.xlsx' \n",
    "Obj = MakeDataset(path)\n",
    "Obj.csv_reader()\n",
    "Obj.make_json()"
   ]
  },
  {
   "cell_type": "markdown",
   "id": "8fd1e156",
   "metadata": {},
   "source": [
    "**Save `exercise.json`**"
   ]
  },
  {
   "cell_type": "code",
   "execution_count": null,
   "id": "b7e90b9c",
   "metadata": {},
   "outputs": [],
   "source": [
    "save_filename = 'exercise.json' \n",
    "\n",
    "## Add call to save_json function\n",
    "\n",
    "Obj.final_json"
   ]
  },
  {
   "cell_type": "markdown",
   "id": "de06afdc",
   "metadata": {},
   "source": [
    "### Exercise 4\n",
    "\n",
    "Use of T5-Base model to generate question ansewer from `exercise.csv`.\n",
    "\n",
    "**Step 1:** Load the CSV file and add model"
   ]
  },
  {
   "cell_type": "code",
   "execution_count": null,
   "id": "2ee835e0",
   "metadata": {},
   "outputs": [],
   "source": [
    "import pandas as pd\n",
    "\n",
    "input_file_path = '../source_code/data/exercise.csv'\n",
    "cv_file =  #add code\n",
    "\n",
    "cv_file.head()"
   ]
  },
  {
   "cell_type": "code",
   "execution_count": null,
   "id": "dd866159",
   "metadata": {},
   "outputs": [],
   "source": [
    "import sys\n",
    "sys.path.append('question_generation')"
   ]
  },
  {
   "cell_type": "code",
   "execution_count": null,
   "id": "14d26c0f",
   "metadata": {},
   "outputs": [],
   "source": [
    "# add model\n",
    "from pipelines import pipeline\n",
    "\n",
    "nlp = pipeline()  #add model to this line"
   ]
  },
  {
   "cell_type": "markdown",
   "id": "7007bd08",
   "metadata": {},
   "source": [
    "**Step 2:** Write functions to generate SQuAD json format"
   ]
  },
  {
   "cell_type": "code",
   "execution_count": null,
   "id": "5fa2869c",
   "metadata": {},
   "outputs": [],
   "source": [
    "# You are free to modify or rewrite the code from scatch  \n",
    "\n",
    "import json\n",
    "import csv\n",
    "import re, os\n",
    "\n",
    "def get_loc(answer, content):\n",
    "    # complete the code\n",
    "    \n",
    "\n",
    "def make_json(qa, context):\n",
    "    qid = 1\n",
    "    final_json = {}\n",
    "    final_json['version'] = \"v2.0\"\n",
    "    final_json['data'] = []\n",
    "    brace_in_data ={}\n",
    "    \n",
    "    brace_in_data['paragraphs'] = []\n",
    "    for j in range(len(context)):\n",
    "        brace_in_paragaraphs = {}\n",
    "        brace_in_paragaraphs['qas'] = []    \n",
    "        for row in qa[j]:\n",
    "            brace_in_qas = {}\n",
    "            #for row in rows:                \n",
    "            brace_in_qas['question'] = row['question']\n",
    "            brace_in_qas['id'] = qid\n",
    "            loc = get_loc(str(row['answer']), str(context[j]))\n",
    "            if loc == -1:\n",
    "                brace_in_qas['answer'] =[] \n",
    "                brace_in_qas['is_impossible'] = True\n",
    "            else:\n",
    "                brace_in_qas['answer'] =[{'text':row['answer'], 'answer_start':loc}]\n",
    "                brace_in_qas['is_impossible'] = False\n",
    "            qid +=1\n",
    "            brace_in_paragaraphs['qas'].append()  # add missing variable\n",
    "        brace_in_paragaraphs['context'] = context[j]\n",
    "        brace_in_data['paragraphs'].append()  # add missing variable\n",
    "    final_json['data'].append() # add missing variable\n",
    "    \n",
    "    return final_json"
   ]
  },
  {
   "cell_type": "markdown",
   "id": "8b68cb0c",
   "metadata": {},
   "source": [
    "**Extract question and answer and make json file**"
   ]
  },
  {
   "cell_type": "code",
   "execution_count": null,
   "id": "286838a9",
   "metadata": {},
   "outputs": [],
   "source": [
    "qa = []\n",
    "for row in cv_file['document_text']:\n",
    "    qa.append(nlp(row))\n",
    "\n",
    "json_data = make_json(qa, cv_file['document_text'])\n",
    "json_data"
   ]
  },
  {
   "cell_type": "markdown",
   "id": "0167311c",
   "metadata": {},
   "source": [
    "---\n",
    "## Licensing\n",
    "\n",
    "Copyright © 2022 OpenACC-Standard.org. This material is released by OpenACC-Standard.org, in collaboration with NVIDIA Corporation, under the Creative Commons Attribution 4.0 International (CC BY 4.0). These materials include references to hardware and software developed by other entities; all applicable licensing and copyrights apply."
   ]
  },
  {
   "cell_type": "markdown",
   "id": "4ea3b0b6",
   "metadata": {},
   "source": [
    "<div>\n",
    "    <span style=\"float: left; width: 33%; text-align: left;\"><a href=\"QandA_data_processing.ipynb\">Previous Notebook</a></span>\n",
    "    <span style=\"float: left; width: 33%; text-align: center;\">\n",
    "        <a href=\"Overview.ipynb\">1</a>\n",
    "        <a href=\"General_preprocessing.ipynb\">2</a>\n",
    "        <a href=\"QandA_data_processing.ipynb\">3</a>\n",
    "        <a >4</a>\n",
    "        <a href=\"Summary.ipynb\">5</a>\n",
    "    </span>\n",
    "    <span style=\"float: left; width: 33%; text-align: right;\"><a href=\"Summary.ipynb\">Next Notebook</a></span>\n",
    "</div>\n",
    "\n",
    "<p> <center> <a href=\"../Start_Here.ipynb\">Home Page</a> </center> </p>"
   ]
  }
 ],
 "metadata": {
  "kernelspec": {
   "display_name": "Python 3 (ipykernel)",
   "language": "python",
   "name": "python3"
  },
  "language_info": {
   "codemirror_mode": {
    "name": "ipython",
    "version": 3
   },
   "file_extension": ".py",
   "mimetype": "text/x-python",
   "name": "python",
   "nbconvert_exporter": "python",
   "pygments_lexer": "ipython3",
   "version": "3.8.10"
  }
 },
 "nbformat": 4,
 "nbformat_minor": 5
}
