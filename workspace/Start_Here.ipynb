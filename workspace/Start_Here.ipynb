{
 "cells": [
  {
   "cell_type": "markdown",
   "id": "219aa8ae",
   "metadata": {},
   "source": [
    "# End-To-End NLP: Question Answering \n",
    "\n",
    "---"
   ]
  },
  {
   "cell_type": "markdown",
   "id": "97f71cbb",
   "metadata": {},
   "source": [
    "## Overview  \n",
    "\n",
    "End-to-End NLP material is designed from a real-world perspective that follows the data processing, development, and deployment pipeline paradigm. The material consists of three labs and the goal is to walk you through a single flow of raw text `data preprocessing` and how to build a SQuAD dataset format for Question Answering, train the dataset via `NVIDIA® TAO` transfer learning BERT model, and deploy using `RIVA`. Furthermore, a challenge notebook is introduced to test your understanding of the material and solidify your experience in the Question Answering (QA) domain.\n",
    "\n",
    "### Why End-to-End NLP?\n",
    "\n",
    "Solving real-world problems in the AI domain requires the use of a set of tools (software stacks and frameworks) and the solution process always follows the `data processing`, `development`, and `deployment` pattern. This material is to:\r\n",
    "- assist AI hackathon participants to learn and apply the knowledge to solve their tasks using NVIDIA software stacks and frameworks\r\n",
    "- enables bootcamp attendees to solve real-world problem using end-to-end approach (data processing --> development --> deployment)\r\n",
    "\n"
   ]
  },
  {
   "cell_type": "markdown",
   "id": "bc88142e",
   "metadata": {},
   "source": [
    "### Implementation Architecture\n",
    "The architecture implementation components include:\n",
    "- Data preprocessing phase\n",
    "- TAO training using the QA model\n",
    "- RIVA deployment\n"
   ]
  },
  {
   "cell_type": "markdown",
   "id": "3aed2a60",
   "metadata": {},
   "source": [
    "<img src=\"jupyter_notebook/images/end-to-end-arch.jpg\" width=\"700px\" height=\"700px\"/>"
   ]
  },
  {
   "cell_type": "markdown",
   "id": "658c2422",
   "metadata": {},
   "source": [
    "### Application Flow\r\n",
    "The application flow is as follows:\r\n",
    "- prepare your question speech/audio\r\n",
    "- The question serves as input into the Speech-To-Text (STT)  Automatic Speech Recognition Model (ASR) that transcribes the speech into text \r\n",
    "- The output text from the STT model is then passed to the NLP model to infer answers in text format. The text answer serves as input into the Text-to-speech (TTS) model \r\n",
    "- Finally, the TTS model synthesizes the answer transcript into audio speech\r\n",
    "\n"
   ]
  },
  {
   "cell_type": "markdown",
   "id": "b9e23ba5",
   "metadata": {},
   "source": [
    "<img src=\"jupyter_notebook/images/application-flow.jpg\" width=\"700px\" height=\"700px\"/>"
   ]
  },
  {
   "cell_type": "markdown",
   "id": "3ae9c279",
   "metadata": {},
   "source": [
    "The table of content below will walk you through the QA data processing phase of the `End-to-End approach to NLP`, and the Exercise included will test your understanding of the concept."
   ]
  },
  {
   "cell_type": "markdown",
   "id": "9f83ca23",
   "metadata": {},
   "source": [
    "### Table of Content\n",
    "\n",
    "The following contents will be covered:\n",
    "1. Data preprocessing\n",
    "    1. [Overview of QA Dataset](jupyter_notebook/Overview.ipynb)\n",
    "        1. [Introduction to QA](jupyter_notebook/Overview.ipynb#Introduction-to-NLP-Question-Answering-System)\n",
    "        1. [Brief on QA Dataset](jupyter_notebook/Overview.ipynb#Brief-on-QA-Dataset)\n",
    "    1. [Common Preprocessing Techniques for Raw Text Data](jupyter_notebook/General_preprocessing.ipynb)\n",
    "    1. [QA Text Data preprocessing](jupyter_notebook/QandA_data_processing.ipynb)\n",
    "        1. [SQuAD Dataset Structural Format](jupyter_notebook/QandA_data_processing.ipynb#SQUAD)\n",
    "        1. [Text Data Source](jupyter_notebook/QandA_data_processing.ipynb#Text-Data-Source)    \n",
    "        1. [Mannual QA Extraction](jupyter_notebook/QandA_data_processing.ipynb#Mannual-QA-Extraction)\n",
    "        1. [Automatic QA Generation with T5 model](jupyter_notebook/QandA_data_processing.ipynb#Automatic-QA-Generation-with-T5-base-model)\n",
    "    1. [Exercise](jupyter_notebook/Exercise.ipynb)\n",
    "    1. [Summary](jupyter_notebook/Summary.ipynb)\n",
    "1. Deployment\n",
    "    1. [RIVA Deployment](jupyter_notebook/qa-riva-deployment.ipynb) \n",
    "    1. [Challenge](jupyter_notebook/challenge.ipynb)\n",
    "1. NeMo Megatron\n",
    "    1. [Nemo Fundamentals](jupyter_notebook/nemo/NeMo_Primer.ipynb)\n",
    "    1. [Prompt Tuning/P-Tuning](jupyter_notebook/nemo/Multitask_Prompt_and_PTuning.ipynb)   \n",
    "1. Megatron-GPT 1.3B Transformer-based Language Model\n",
    "    1. [Language Model Inferencing](jupyter_notebook/nemo/demo.ipynb)\n"
   ]
  },
  {
   "cell_type": "markdown",
   "id": "0a20eb54",
   "metadata": {},
   "source": [
    "### Check your GPU\n",
    "\n",
    "Let's execute the cell below to display information about the CUDA driver and GPUs running on the server by running the nvidia-smi command. To do this, execute the cell block below by giving it focus (clicking on it with your mouse), and hitting `Ctrl-Enter`, or pressing the play button in the toolbar above. If all goes well, you should see some output returned below the grey cell."
   ]
  },
  {
   "cell_type": "code",
   "execution_count": null,
   "id": "9920bc70",
   "metadata": {},
   "outputs": [],
   "source": [
    "#!nvidia-smi"
   ]
  },
  {
   "cell_type": "markdown",
   "id": "7f8ed3b1",
   "metadata": {},
   "source": [
    "### Tutorial Duration\n",
    "\n",
    "The material will be presented 2 labs in a total of 8hrs sessions as follows:\n",
    "- Data preprocessing Lab: `3hrs: 30mins`\n",
    "- Development & Deployment : `4hrs: 30mins`"
   ]
  },
  {
   "cell_type": "markdown",
   "id": "5ab4aed5",
   "metadata": {},
   "source": [
    "### Content Level\n",
    "Beginner to Advanced\n",
    "\n",
    "### Target Audience and Prerequisites\r\n",
    "The target audience for these labs are researchers, graduate students, and developers who are interested in the End-to-End approach to solving NLP tasks via the use of GPUs. Audiences are expected to have Python programming background Knowledge and possess NVIDIA NGC key\r\n",
    "\n"
   ]
  },
  {
   "cell_type": "markdown",
   "id": "45271402",
   "metadata": {},
   "source": [
    "---\n",
    "## Licensing\n",
    "\n",
    "Copyright © 2022 OpenACC-Standard.org. This material is released by OpenACC-Standard.org, in collaboration with NVIDIA Corporation, under the Creative Commons Attribution 4.0 International (CC BY 4.0). These materials include references to hardware and software developed by other entities; all applicable licensing and copyrights apply."
   ]
  }
 ],
 "metadata": {
  "kernelspec": {
   "display_name": "Python 3 (ipykernel)",
   "language": "python",
   "name": "python3"
  },
  "language_info": {
   "codemirror_mode": {
    "name": "ipython",
    "version": 3
   },
   "file_extension": ".py",
   "mimetype": "text/x-python",
   "name": "python",
   "nbconvert_exporter": "python",
   "pygments_lexer": "ipython3",
   "version": "3.8.10"
  }
 },
 "nbformat": 4,
 "nbformat_minor": 5
}
