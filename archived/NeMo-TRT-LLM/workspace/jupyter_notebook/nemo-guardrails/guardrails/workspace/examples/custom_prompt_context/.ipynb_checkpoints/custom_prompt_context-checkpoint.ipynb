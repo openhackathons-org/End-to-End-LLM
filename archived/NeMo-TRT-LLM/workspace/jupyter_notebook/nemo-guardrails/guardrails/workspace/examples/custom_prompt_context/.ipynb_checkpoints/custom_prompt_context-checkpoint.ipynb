{
 "cells": [
  {
   "cell_type": "markdown",
   "metadata": {},
   "source": [
    "<p> <center> <a href=\"../../../../../../Start_Here.ipynb\">Home Page</a> </center> </p>\n",
    " \n",
    "<div>\n",
    "    <span style=\"float: left; width: 33%; text-align: left;\"><a href=\"../moderation_rail/moderation_rail.ipynb\">Previous Notebook</a></span>\n",
    "    <span style=\"float: left; width: 33%; text-align: center;\">\n",
    "        <a href=\"../topical_rail/topical_rail.ipynb\">1</a>\n",
    "        <a href=\"../jailbreak_check/jailbreak_check.ipynb\">2</a>\n",
    "        <a href=\"../grounding_rail/grounding_rail.ipynb\">3</a>\n",
    "        <a href=\"../moderation_rail/moderation_rail.ipynb\">4</a>\n",
    "        <a>5</a>\n",
    "    </span>\n",
    "</div>"
   ]
  },
  {
   "cell_type": "markdown",
   "metadata": {},
   "source": [
    "# Custom Prompt Context\n",
    "\n",
    "This example shows how you can include custom data in your custom prompt.\n",
    "\n",
    "A common use case is to let the LLM know the current date and time so that it can respond appropriately to user queries involving a time component, e.g., \"What day is today?\". To achieve this, you need to:\n",
    "\n",
    "1. Register an additional [prompt context variable](../../docs/user_guide/advanced/prompt-customization.md#prompt-variables) (i.e., an additional variable that will be available when the prompts are rendered). This can be achieved using the `register_prompt_context(name, value_or_fn)`.\n",
    "\n",
    "2. Change the desired prompts to include the new variable(s).\n",
    "\n",
    "Check out the `config.py` and `config.yml` files for a proof-of-concept.\n",
    "\n",
    "You can test this configuration with `nemoguardrails chat --config=examples/custom_prompt_context`.\n"
   ]
  },
  {
   "cell_type": "markdown",
   "metadata": {},
   "source": [
    "---\n",
    "## Licensing\n",
    "\n",
    "Copyright © 2022 OpenACC-Standard.org. This material is released by OpenACC-Standard.org, in collaboration with NVIDIA Corporation, under the Creative Commons Attribution 4.0 International (CC BY 4.0). These materials include references to hardware and software developed by other entities; all applicable licensing and copyrights apply."
   ]
  },
  {
   "cell_type": "markdown",
   "metadata": {},
   "source": [
    "<p> <center> <a href=\"../../../../../../Start_Here.ipynb\">Home Page</a> </center> </p>\n",
    " \n",
    "<div>\n",
    "    <span style=\"float: left; width: 33%; text-align: left;\"><a href=\"../moderation_rail/moderation_rail.ipynb\">Previous Notebook</a></span>\n",
    "    <span style=\"float: left; width: 33%; text-align: center;\">\n",
    "        <a href=\"../topical_rail/topical_rail.ipynb\">1</a>\n",
    "        <a href=\"../jailbreak_check/jailbreak_check.ipynb\">2</a>\n",
    "        <a href=\"../grounding_rail/grounding_rail.ipynb\">3</a>\n",
    "        <a href=\"../moderation_rail/moderation_rail.ipynb\">4</a>\n",
    "        <a>5</a>\n",
    "    </span>\n",
    "</div>"
   ]
  }
 ],
 "metadata": {
  "language_info": {
   "name": "python"
  },
  "orig_nbformat": 4
 },
 "nbformat": 4,
 "nbformat_minor": 2
}
